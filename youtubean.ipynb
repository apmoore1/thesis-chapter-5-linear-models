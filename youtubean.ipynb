{
 "cells": [
  {
   "cell_type": "code",
   "execution_count": 1,
   "metadata": {
    "tags": []
   },
   "outputs": [
    {
     "output_type": "stream",
     "name": "stderr",
     "text": "Using TensorFlow backend.\n"
    }
   ],
   "source": [
    "from pathlib import Path\n",
    "import random as rn\n",
    "rn.seed(42)\n",
    "\n",
    "import numpy as np\n",
    "np.random.seed(42)\n",
    "from sklearn.model_selection import StratifiedShuffleSplit\n",
    "from bella.parsers import semeval_14\n",
    "from bella.data_types import TargetCollection, Target\n",
    "from bella import write_data\n",
    "\n",
    "import config"
   ]
  },
  {
   "cell_type": "markdown",
   "metadata": {},
   "source": [
    "# Creating Training and Test sets for the YouTuBean Dataset\n",
    "We show how we created the Training and Test sets for this dataset.\n",
    "\n",
    "The original Dataset can be downloaded from [here](https://raw.githubusercontent.com/epochx/opinatt/master/samsung_galaxy_s5.xml) and the accompying paper can be found [here](https://www.aclweb.org/anthology/W17-5213). As Marrese-Taylor et al. Evaluated their models on 5 fold cross validation they do not have one train, test set therefore we create a 70% train and 30% test dataset, we then save the new train and test dataset in XML format just like the original format. This format is the same as [SemEval 2014](http://alt.qcri.org/semeval2014/task4/) XML format."
   ]
  },
  {
   "cell_type": "code",
   "execution_count": 2,
   "metadata": {
    "tags": []
   },
   "outputs": [
    {
     "output_type": "stream",
     "name": "stdout",
     "text": "\nShown above is two ways to parse the data. The first one contains labels called conflicts which is when the sentiment is both positive and negative. The second removes the conflict labels. The original analysis by Marrese-Taylor mapped the conflict labels to neutral labels. However all of our experiments we remove the conflict labelled data.\n\nWe thought it would be best to show you here how you can parse the data differently. Also we parse the data with conflicts so that we can show that we have parsed the data correctly as the statitics from Marrese-Taylor paper assume you include the conflict data. In there paper they state that there are 525 uniqie aspect terms and that is exactly what we got as shown here:\n\n525\n\nIn the dataset that we are using which contains **no conflict labels** there are: 798 targets\n\n"
    }
   ],
   "source": [
    "# YouTube dataset\n",
    "youtubean_with_conflicts = semeval_14(config.youtubean_original, conflict=True)\n",
    "youtubean = semeval_14(config.youtubean_original, conflict=False)\n",
    "print(f'''\n",
    "Shown above is two ways to parse the data. The first one contains labels called conflicts which is when the sentiment is both positive and negative. The second removes the conflict labels. The original analysis by Marrese-Taylor mapped the conflict labels to neutral labels. However all of our experiments we remove the conflict labelled data.\n",
    "\n",
    "We thought it would be best to show you here how you can parse the data differently. Also we parse the data with conflicts so that we can show that we have parsed the data correctly as the statitics from Marrese-Taylor paper assume you include the conflict data. In there paper they state that there are 525 uniqie aspect terms and that is exactly what we got as shown here:\n",
    "\n",
    "{youtubean_with_conflicts.number_unique_targets()}\n",
    "\n",
    "In the dataset that we are using which contains **no conflict labels** there are: {len(youtubean)} targets\n",
    "''')"
   ]
  },
  {
   "cell_type": "code",
   "execution_count": 3,
   "metadata": {
    "tags": []
   },
   "outputs": [
    {
     "output_type": "stream",
     "name": "stdout",
     "text": "\nThe dataset has now been split with respect to the class labels so each class label is represented equally in the train and test splits which can be shown here:\n\nTrain Data ratio: {1: 0.28, 0: 0.63, -1: 0.09}\nTrain Data raw values: {1: 157, 0: 352, -1: 49}\n\nTest Data ratio: {0: 0.63, -1: 0.09, 1: 0.28}\nTest Data raw values: {0: 152, -1: 21, 1: 67}\n\nOriginal Data ratio: {0: 0.63, 1: 0.28, -1: 0.09}\nOriginal Data raw values: {0: 504, 1: 224, -1: 70}\n\nWe now save the data to XML file format which is the same as the SemEval data format.\n\n"
    }
   ],
   "source": [
    "splitter = StratifiedShuffleSplit(n_splits=1, test_size=0.3, random_state=42)\n",
    "\n",
    "youtubean_data = np.asarray(youtubean.data_dict())\n",
    "youtubean_sentiment = np.asarray(youtubean.sentiment_data())\n",
    "for train_indexs, test_indexs in splitter.split(youtubean_data, youtubean_sentiment):\n",
    "    train_data = youtubean_data[train_indexs]\n",
    "    test_data = youtubean_data[test_indexs]\n",
    "    \n",
    "convert_to_targets = lambda data: [Target(**target) for target in data]\n",
    "youtubean_train = TargetCollection(convert_to_targets(train_data))\n",
    "youtubean_test = TargetCollection(convert_to_targets(test_data))\n",
    "print(f'''\n",
    "The dataset has now been split with respect to the class labels so each class label is represented equally in the train and test splits which can be shown here:\n",
    "\n",
    "Train Data ratio: {youtubean_train.ratio_targets_sentiment()}\n",
    "Train Data raw values: {youtubean_train.no_targets_sentiment()}\n",
    "\n",
    "Test Data ratio: {youtubean_test.ratio_targets_sentiment()}\n",
    "Test Data raw values: {youtubean_test.no_targets_sentiment()}\n",
    "\n",
    "Original Data ratio: {youtubean.ratio_targets_sentiment()}\n",
    "Original Data raw values: {youtubean.no_targets_sentiment()}\n",
    "\n",
    "We now save the data to XML file format which is the same as the SemEval data format.\n",
    "''')"
   ]
  },
  {
   "cell_type": "code",
   "execution_count": 4,
   "metadata": {},
   "outputs": [],
   "source": [
    "write_data.semeval_14(config.youtubean_train, youtubean_train)\n",
    "write_data.semeval_14(config.youtubean_test, youtubean_test)"
   ]
  }
 ],
 "metadata": {
  "language_info": {
   "codemirror_mode": {
    "name": "ipython",
    "version": 3
   },
   "file_extension": ".py",
   "mimetype": "text/x-python",
   "name": "python",
   "nbconvert_exporter": "python",
   "pygments_lexer": "ipython3",
   "version": "3.6.7-candidate"
  },
  "orig_nbformat": 2,
  "kernelspec": {
   "name": "python36764bitf868c7e0d1e547669dece7a4caca1993",
   "display_name": "Python 3.6.7 64-bit"
  }
 },
 "nbformat": 4,
 "nbformat_minor": 2
}