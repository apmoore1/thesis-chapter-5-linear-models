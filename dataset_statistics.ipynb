{
 "cells": [
  {
   "cell_type": "code",
   "execution_count": 1,
   "metadata": {
    "tags": []
   },
   "outputs": [
    {
     "output_type": "stream",
     "name": "stderr",
     "text": "Using TensorFlow backend.\n"
    }
   ],
   "source": [
    "from collections import defaultdict\n",
    "\n",
    "from bella.data_types import TargetCollection\n",
    "from bella import parsers\n",
    "import pandas as pd\n",
    "\n",
    "import config\n"
   ]
  },
  {
   "cell_type": "markdown",
   "metadata": {},
   "source": [
    "# Dataset Statistics\n",
    "\n",
    "In this notebook we show various dataset statistics for all six datasets used.\n",
    "\n",
    "First we load the datasets:"
   ]
  },
  {
   "cell_type": "code",
   "execution_count": 2,
   "metadata": {},
   "outputs": [],
   "source": [
    "# Load all of the training and testing datasets\n",
    "dong_train = parsers.dong(config.DONG_TRAIN, name='Dong Train')\n",
    "dong_test = parsers.dong(config.DONG_TEST, name='Dong')\n",
    "laptop_train = parsers.semeval_14(config.laptop_train, name='Laptop Train')\n",
    "laptop_test = parsers.semeval_14(config.laptop_test, name='Laptop')\n",
    "restaurant_train = parsers.semeval_14(config.restaurant_train, name='Restaurant Train')\n",
    "restaurant_test = parsers.semeval_14(config.restaurant_test, name='Restaurant')\n",
    "election_train = parsers.election_train(config.ELECTION, name='Election Train')\n",
    "election_test = parsers.election_test(config.ELECTION, name='Election')\n",
    "mitchell_train = parsers.semeval_14(config.mitchell_train, name='Mitchell Train')\n",
    "mitchell_test = parsers.semeval_14(config.mitchell_test, name='Mitchell')\n",
    "youtubean_train = parsers.semeval_14(config.youtubean_train, name='YouTuBean Train')\n",
    "youtubean_test = parsers.semeval_14(config.youtubean_test, name='YouTuBean')\n",
    "# Training sets\n",
    "training_sets = {'Laptop' : laptop_train, 'Restaurant' : restaurant_train,\n",
    "                 'Mitchell' : mitchell_train, 'Dong Twitter' : dong_train, \n",
    "                 'Election Twitter' : election_train, 'YouTuBean' : youtubean_train}\n",
    "# Combine the train with the test\n",
    "youtubean = TargetCollection.combine_collections(youtubean_train, youtubean_test)\n",
    "restaurant = TargetCollection.combine_collections(restaurant_train,\n",
    "                                                  restaurant_test)\n",
    "laptop = TargetCollection.combine_collections(laptop_train,\n",
    "                                              laptop_test)\n",
    "dong = TargetCollection.combine_collections(dong_train, dong_test)\n",
    "election = TargetCollection.combine_collections(election_train, election_test)\n",
    "mitchell = TargetCollection.combine_collections(mitchell_train, mitchell_test)\n",
    "\n",
    "\n",
    "datasets = {'Laptop' : laptop, 'Restaurant' : restaurant,\n",
    "            'Mitchell' : mitchell, 'Dong Twitter' : dong, \n",
    "            'Election Twitter' : election, 'YouTuBean' : youtubean}"
   ]
  },
  {
   "cell_type": "markdown",
   "metadata": {},
   "source": [
    "We create statistics on domain, type, medium, number of targets, sentence length, and the number of unique sentiments per sentence."
   ]
  },
  {
   "cell_type": "code",
   "execution_count": 3,
   "metadata": {},
   "outputs": [
    {
     "output_type": "execute_result",
     "data": {
      "text/plain": "                         Domain          Type   Medium  \\\nLaptop                   Laptop        Review  Written   \nRestaurant           Restaurant        Review  Written   \nMitchell                General  Social Media  Written   \nDong Twitter            General  Social Media  Written   \nElection Twitter       Politics  Social Media  Written   \nYouTuBean         Mobile Phones        Review   Spoken   \n\n                  No. Targets (Dataset Size)  No. Senti Labels  \\\nLaptop                                  2951                 3   \nRestaurant                              4722                 3   \nMitchell                                3288                 3   \nDong Twitter                            6940                 3   \nElection Twitter                       11899                 3   \nYouTuBean                                798                 3   \n\n                  Mean Targets per Sent  No Unique Targets  \\\nLaptop                             1.58               1295   \nRestaurant                         1.83               1630   \nMitchell                           1.22               2507   \nDong Twitter                       1.00                145   \nElection Twitter                   2.94               2190   \nYouTuBean                          1.56                522   \n\n                  % Targets with 1 Unique Sentiment per Sentence  \\\nLaptop                                                     81.09   \nRestaurant                                                 75.26   \nMitchell                                                   90.48   \nDong Twitter                                              100.00   \nElection Twitter                                           44.50   \nYouTuBean                                                  88.85   \n\n                  % Targets with 2 Unique Sentiment per Sentence  \\\nLaptop                                                     17.62   \nRestaurant                                                 22.94   \nMitchell                                                    9.43   \nDong Twitter                                                0.00   \nElection Twitter                                           46.72   \nYouTuBean                                                  11.15   \n\n                  % Targets with 3 Unique Sentiment per Sentence  \\\nLaptop                                                      1.29   \nRestaurant                                                  1.80   \nMitchell                                                    0.09   \nDong Twitter                                                0.00   \nElection Twitter                                            8.78   \nYouTuBean                                                   0.00   \n\n                  Avg sentence length per target  \nLaptop                                     18.57  \nRestaurant                                 17.25  \nMitchell                                   18.02  \nDong Twitter                               17.37  \nElection Twitter                           21.68  \nYouTuBean                                  22.53  ",
      "text/html": "<div>\n<style scoped>\n    .dataframe tbody tr th:only-of-type {\n        vertical-align: middle;\n    }\n\n    .dataframe tbody tr th {\n        vertical-align: top;\n    }\n\n    .dataframe thead th {\n        text-align: right;\n    }\n</style>\n<table border=\"1\" class=\"dataframe\">\n  <thead>\n    <tr style=\"text-align: right;\">\n      <th></th>\n      <th>Domain</th>\n      <th>Type</th>\n      <th>Medium</th>\n      <th>No. Targets (Dataset Size)</th>\n      <th>No. Senti Labels</th>\n      <th>Mean Targets per Sent</th>\n      <th>No Unique Targets</th>\n      <th>% Targets with 1 Unique Sentiment per Sentence</th>\n      <th>% Targets with 2 Unique Sentiment per Sentence</th>\n      <th>% Targets with 3 Unique Sentiment per Sentence</th>\n      <th>Avg sentence length per target</th>\n    </tr>\n  </thead>\n  <tbody>\n    <tr>\n      <th>Laptop</th>\n      <td>Laptop</td>\n      <td>Review</td>\n      <td>Written</td>\n      <td>2951</td>\n      <td>3</td>\n      <td>1.58</td>\n      <td>1295</td>\n      <td>81.09</td>\n      <td>17.62</td>\n      <td>1.29</td>\n      <td>18.57</td>\n    </tr>\n    <tr>\n      <th>Restaurant</th>\n      <td>Restaurant</td>\n      <td>Review</td>\n      <td>Written</td>\n      <td>4722</td>\n      <td>3</td>\n      <td>1.83</td>\n      <td>1630</td>\n      <td>75.26</td>\n      <td>22.94</td>\n      <td>1.80</td>\n      <td>17.25</td>\n    </tr>\n    <tr>\n      <th>Mitchell</th>\n      <td>General</td>\n      <td>Social Media</td>\n      <td>Written</td>\n      <td>3288</td>\n      <td>3</td>\n      <td>1.22</td>\n      <td>2507</td>\n      <td>90.48</td>\n      <td>9.43</td>\n      <td>0.09</td>\n      <td>18.02</td>\n    </tr>\n    <tr>\n      <th>Dong Twitter</th>\n      <td>General</td>\n      <td>Social Media</td>\n      <td>Written</td>\n      <td>6940</td>\n      <td>3</td>\n      <td>1.00</td>\n      <td>145</td>\n      <td>100.00</td>\n      <td>0.00</td>\n      <td>0.00</td>\n      <td>17.37</td>\n    </tr>\n    <tr>\n      <th>Election Twitter</th>\n      <td>Politics</td>\n      <td>Social Media</td>\n      <td>Written</td>\n      <td>11899</td>\n      <td>3</td>\n      <td>2.94</td>\n      <td>2190</td>\n      <td>44.50</td>\n      <td>46.72</td>\n      <td>8.78</td>\n      <td>21.68</td>\n    </tr>\n    <tr>\n      <th>YouTuBean</th>\n      <td>Mobile Phones</td>\n      <td>Review</td>\n      <td>Spoken</td>\n      <td>798</td>\n      <td>3</td>\n      <td>1.56</td>\n      <td>522</td>\n      <td>88.85</td>\n      <td>11.15</td>\n      <td>0.00</td>\n      <td>22.53</td>\n    </tr>\n  </tbody>\n</table>\n</div>"
     },
     "metadata": {},
     "execution_count": 3
    }
   ],
   "source": [
    "dataset_dict = defaultdict(list)\n",
    "index = []\n",
    "columns = ['Domain', 'Type', 'Medium', 'No. Targets (Dataset Size)', \n",
    "           'No. Senti Labels', 'Mean Targets per Sent', 'No Unique Targets',\n",
    "           '% Targets with 1 Unique Sentiment per Sentence', \n",
    "           '% Targets with 2 Unique Sentiment per Sentence', \n",
    "           '% Targets with 3 Unique Sentiment per Sentence', 'Avg sentence length per target']\n",
    "name_domain = {'Laptop' : 'Laptop', 'Restaurant' : 'Restaurant', \n",
    "               'Mitchell' : 'General', 'Dong Twitter' : 'General', 'Election Twitter' : 'Politics',\n",
    "               'YouTuBean' : 'Mobile Phones'}\n",
    "name_type = {'Laptop' : 'Review', 'Restaurant' : 'Review', \n",
    "             'Mitchell' : 'Social Media', 'Dong Twitter' : 'Social Media', \n",
    "             'Election Twitter' : 'Social Media',\n",
    "             'YouTuBean' : 'Review'}\n",
    "name_medium = {'Laptop' : 'Written', 'Restaurant' : 'Written', \n",
    "               'Mitchell' : 'Written', 'Dong Twitter' : 'Written', \n",
    "               'Election Twitter' : 'Written',\n",
    "               'YouTuBean' : 'Spoken'}\n",
    "for name, dataset in datasets.items():\n",
    "    index.append(name)\n",
    "    targets_i_senti = []\n",
    "    num_targets = len(dataset)\n",
    "    num_sentiment_labels = len(dataset.stored_sentiments())\n",
    "    avg_sent_length = dataset.avg_sentence_length_per_target()\n",
    "    for i in range(1, 4):\n",
    "        if i > num_sentiment_labels:\n",
    "            targets_i_senti.append(0)\n",
    "        else:\n",
    "            i_senti_targets = len(dataset.subset_by_sentiment(i))\n",
    "            targets_i_senti\\\n",
    "            .append((i_senti_targets / num_targets) * 100)\n",
    "            \n",
    "    dataset_dict['Domain'].append(name_domain[name])\n",
    "    dataset_dict['Type'].append(name_type[name])\n",
    "    dataset_dict['Medium'].append(name_medium[name])\n",
    "    dataset_dict['No. Targets (Dataset Size)'].append(num_targets)\n",
    "    dataset_dict['No. Senti Labels'].append(num_sentiment_labels)\n",
    "    dataset_dict['Mean Targets per Sent'].append(dataset\\\n",
    "                                                 .avg_targets_per_sentence())\n",
    "    dataset_dict['No Unique Targets'].append(dataset.number_unique_targets())\n",
    "    dataset_dict['% Targets with 1 Unique Sentiment per Sentence'].append(targets_i_senti[0])\n",
    "    dataset_dict['% Targets with 2 Unique Sentiment per Sentence'].append(targets_i_senti[1])\n",
    "    dataset_dict['% Targets with 3 Unique Sentiment per Sentence'].append(targets_i_senti[2])\n",
    "    dataset_dict['Avg sentence length per target'].append(avg_sent_length)\n",
    "    \n",
    "\n",
    "dataset_stats = pd.DataFrame(dataset_dict, index=index, columns=columns)\n",
    "dataset_stats.round(2)"
   ]
  },
  {
   "cell_type": "markdown",
   "metadata": {},
   "source": [
    "Sentiment distribution of all datasets:"
   ]
  },
  {
   "cell_type": "code",
   "execution_count": 4,
   "metadata": {},
   "outputs": [
    {
     "output_type": "execute_result",
     "data": {
      "text/plain": "                 No. Poisitve (%) No. Neutral (%) No. Negative (%)\nLaptop               1328 (45.00)     629 (21.31)      994 (33.68)\nRestaurant           2892 (61.25)     829 (17.56)     1001 (21.20)\nMitchell              707 (21.50)    2306 (70.13)       275 (8.36)\nDong Twitter         1734 (24.99)    3473 (50.04)     1733 (24.97)\nElection Twitter     1744 (14.66)    4572 (38.42)     5583 (46.92)\nYouTuBean             224 (28.07)     504 (63.16)        70 (8.77)",
      "text/html": "<div>\n<style scoped>\n    .dataframe tbody tr th:only-of-type {\n        vertical-align: middle;\n    }\n\n    .dataframe tbody tr th {\n        vertical-align: top;\n    }\n\n    .dataframe thead th {\n        text-align: right;\n    }\n</style>\n<table border=\"1\" class=\"dataframe\">\n  <thead>\n    <tr style=\"text-align: right;\">\n      <th></th>\n      <th>No. Poisitve (%)</th>\n      <th>No. Neutral (%)</th>\n      <th>No. Negative (%)</th>\n    </tr>\n  </thead>\n  <tbody>\n    <tr>\n      <th>Laptop</th>\n      <td>1328 (45.00)</td>\n      <td>629 (21.31)</td>\n      <td>994 (33.68)</td>\n    </tr>\n    <tr>\n      <th>Restaurant</th>\n      <td>2892 (61.25)</td>\n      <td>829 (17.56)</td>\n      <td>1001 (21.20)</td>\n    </tr>\n    <tr>\n      <th>Mitchell</th>\n      <td>707 (21.50)</td>\n      <td>2306 (70.13)</td>\n      <td>275 (8.36)</td>\n    </tr>\n    <tr>\n      <th>Dong Twitter</th>\n      <td>1734 (24.99)</td>\n      <td>3473 (50.04)</td>\n      <td>1733 (24.97)</td>\n    </tr>\n    <tr>\n      <th>Election Twitter</th>\n      <td>1744 (14.66)</td>\n      <td>4572 (38.42)</td>\n      <td>5583 (46.92)</td>\n    </tr>\n    <tr>\n      <th>YouTuBean</th>\n      <td>224 (28.07)</td>\n      <td>504 (63.16)</td>\n      <td>70 (8.77)</td>\n    </tr>\n  </tbody>\n</table>\n</div>"
     },
     "metadata": {},
     "execution_count": 4
    }
   ],
   "source": [
    "dataset_dict = defaultdict(list)\n",
    "index = []\n",
    "columns = ['No. Poisitve (%)', 'No. Neutral (%)', 'No. Negative (%)']\n",
    "sentiment_values = [1, 0, -1]\n",
    "sentiment_mapper = dict(list(zip(sentiment_values, columns)))\n",
    "\n",
    "for name, dataset in datasets.items():\n",
    "    index.append(name)\n",
    "    num_targets = len(dataset)\n",
    "    sentiment_freq = defaultdict(lambda: 0)\n",
    "    for data in dataset.data():\n",
    "        target_value = data['sentiment']\n",
    "        sentiment_freq[target_value] += 1\n",
    "    for sentiment_value, freq in sentiment_freq.items():\n",
    "        senti_percentage = (freq / num_targets) * 100\n",
    "        freq_percentage = f'{freq} ({senti_percentage:.2f})'\n",
    "        \n",
    "        column = sentiment_mapper[sentiment_value]\n",
    "        dataset_dict[column].append(freq_percentage)\n",
    "sentiment_freq_stats = pd.DataFrame(dataset_dict, index=index, columns=columns)\n",
    "sentiment_freq_stats"
   ]
  },
  {
   "cell_type": "markdown",
   "metadata": {},
   "source": [
    "Size of the training sets"
   ]
  },
  {
   "cell_type": "code",
   "execution_count": 5,
   "metadata": {},
   "outputs": [
    {
     "output_type": "execute_result",
     "data": {
      "text/plain": "                         Domain          Type   Medium  \\\nLaptop                   Laptop        Review  Written   \nRestaurant           Restaurant        Review  Written   \nMitchell                General  Social Media  Written   \nDong Twitter            General  Social Media  Written   \nElection Twitter       Politics  Social Media  Written   \nYouTuBean         Mobile Phones        Review   Spoken   \n\n                  No. Targets (Dataset Size)  No. Senti Labels  \\\nLaptop                                  2313                 3   \nRestaurant                              3602                 3   \nMitchell                                2301                 3   \nDong Twitter                            6248                 3   \nElection Twitter                        9358                 3   \nYouTuBean                                558                 3   \n\n                  Mean Targets per Sent  No Unique Targets  \\\nLaptop                             1.58               1031   \nRestaurant                         1.82               1268   \nMitchell                           1.27               1824   \nDong Twitter                       1.00                140   \nElection Twitter                   2.94               1855   \nYouTuBean                          1.74                394   \n\n                  % Targets with 1 Unique Sentiment per Sentence  \\\nLaptop                                                     80.33   \nRestaurant                                                 73.90   \nMitchell                                                   89.14   \nDong Twitter                                              100.00   \nElection Twitter                                           44.14   \nYouTuBean                                                  85.66   \n\n                  % Targets with 2 Unique Sentiment per Sentence  \\\nLaptop                                                     18.42   \nRestaurant                                                 23.82   \nMitchell                                                   10.73   \nDong Twitter                                                0.00   \nElection Twitter                                           46.77   \nYouTuBean                                                  14.34   \n\n                  % Targets with 3 Unique Sentiment per Sentence  \\\nLaptop                                                      1.25   \nRestaurant                                                  2.28   \nMitchell                                                    0.13   \nDong Twitter                                                0.00   \nElection Twitter                                            9.08   \nYouTuBean                                                   0.00   \n\n                  Avg sentence length per target  \nLaptop                                     19.28  \nRestaurant                                 17.55  \nMitchell                                   18.05  \nDong Twitter                               17.36  \nElection Twitter                           21.67  \nYouTuBean                                  22.75  ",
      "text/html": "<div>\n<style scoped>\n    .dataframe tbody tr th:only-of-type {\n        vertical-align: middle;\n    }\n\n    .dataframe tbody tr th {\n        vertical-align: top;\n    }\n\n    .dataframe thead th {\n        text-align: right;\n    }\n</style>\n<table border=\"1\" class=\"dataframe\">\n  <thead>\n    <tr style=\"text-align: right;\">\n      <th></th>\n      <th>Domain</th>\n      <th>Type</th>\n      <th>Medium</th>\n      <th>No. Targets (Dataset Size)</th>\n      <th>No. Senti Labels</th>\n      <th>Mean Targets per Sent</th>\n      <th>No Unique Targets</th>\n      <th>% Targets with 1 Unique Sentiment per Sentence</th>\n      <th>% Targets with 2 Unique Sentiment per Sentence</th>\n      <th>% Targets with 3 Unique Sentiment per Sentence</th>\n      <th>Avg sentence length per target</th>\n    </tr>\n  </thead>\n  <tbody>\n    <tr>\n      <th>Laptop</th>\n      <td>Laptop</td>\n      <td>Review</td>\n      <td>Written</td>\n      <td>2313</td>\n      <td>3</td>\n      <td>1.58</td>\n      <td>1031</td>\n      <td>80.33</td>\n      <td>18.42</td>\n      <td>1.25</td>\n      <td>19.28</td>\n    </tr>\n    <tr>\n      <th>Restaurant</th>\n      <td>Restaurant</td>\n      <td>Review</td>\n      <td>Written</td>\n      <td>3602</td>\n      <td>3</td>\n      <td>1.82</td>\n      <td>1268</td>\n      <td>73.90</td>\n      <td>23.82</td>\n      <td>2.28</td>\n      <td>17.55</td>\n    </tr>\n    <tr>\n      <th>Mitchell</th>\n      <td>General</td>\n      <td>Social Media</td>\n      <td>Written</td>\n      <td>2301</td>\n      <td>3</td>\n      <td>1.27</td>\n      <td>1824</td>\n      <td>89.14</td>\n      <td>10.73</td>\n      <td>0.13</td>\n      <td>18.05</td>\n    </tr>\n    <tr>\n      <th>Dong Twitter</th>\n      <td>General</td>\n      <td>Social Media</td>\n      <td>Written</td>\n      <td>6248</td>\n      <td>3</td>\n      <td>1.00</td>\n      <td>140</td>\n      <td>100.00</td>\n      <td>0.00</td>\n      <td>0.00</td>\n      <td>17.36</td>\n    </tr>\n    <tr>\n      <th>Election Twitter</th>\n      <td>Politics</td>\n      <td>Social Media</td>\n      <td>Written</td>\n      <td>9358</td>\n      <td>3</td>\n      <td>2.94</td>\n      <td>1855</td>\n      <td>44.14</td>\n      <td>46.77</td>\n      <td>9.08</td>\n      <td>21.67</td>\n    </tr>\n    <tr>\n      <th>YouTuBean</th>\n      <td>Mobile Phones</td>\n      <td>Review</td>\n      <td>Spoken</td>\n      <td>558</td>\n      <td>3</td>\n      <td>1.74</td>\n      <td>394</td>\n      <td>85.66</td>\n      <td>14.34</td>\n      <td>0.00</td>\n      <td>22.75</td>\n    </tr>\n  </tbody>\n</table>\n</div>"
     },
     "metadata": {},
     "execution_count": 5
    }
   ],
   "source": [
    "train_dataset_dict = defaultdict(list)\n",
    "index = []\n",
    "columns = ['Domain', 'Type', 'Medium', 'No. Targets (Dataset Size)', \n",
    "           'No. Senti Labels', 'Mean Targets per Sent', 'No Unique Targets',\n",
    "           '% Targets with 1 Unique Sentiment per Sentence', \n",
    "           '% Targets with 2 Unique Sentiment per Sentence', \n",
    "           '% Targets with 3 Unique Sentiment per Sentence', 'Avg sentence length per target']\n",
    "name_domain = {'Laptop' : 'Laptop', 'Restaurant' : 'Restaurant', \n",
    "               'Mitchell' : 'General', 'Dong Twitter' : 'General', 'Election Twitter' : 'Politics',\n",
    "               'YouTuBean' : 'Mobile Phones'}\n",
    "name_type = {'Laptop' : 'Review', 'Restaurant' : 'Review', \n",
    "             'Mitchell' : 'Social Media', 'Dong Twitter' : 'Social Media', \n",
    "             'Election Twitter' : 'Social Media',\n",
    "             'YouTuBean' : 'Review'}\n",
    "name_medium = {'Laptop' : 'Written', 'Restaurant' : 'Written', \n",
    "               'Mitchell' : 'Written', 'Dong Twitter' : 'Written', \n",
    "               'Election Twitter' : 'Written',\n",
    "               'YouTuBean' : 'Spoken'}\n",
    "for name, dataset in training_sets.items():\n",
    "    index.append(name)\n",
    "    targets_i_senti = []\n",
    "    num_targets = len(dataset)\n",
    "    num_sentiment_labels = len(dataset.stored_sentiments())\n",
    "    avg_sent_length = dataset.avg_sentence_length_per_target()\n",
    "    for i in range(1, 4):\n",
    "        if i > num_sentiment_labels:\n",
    "            targets_i_senti.append(0)\n",
    "        else:\n",
    "            i_senti_targets = len(dataset.subset_by_sentiment(i))\n",
    "            targets_i_senti\\\n",
    "            .append((i_senti_targets / num_targets) * 100)\n",
    "            \n",
    "    train_dataset_dict['Domain'].append(name_domain[name])\n",
    "    train_dataset_dict['Type'].append(name_type[name])\n",
    "    train_dataset_dict['Medium'].append(name_medium[name])\n",
    "    train_dataset_dict['No. Targets (Dataset Size)'].append(num_targets)\n",
    "    train_dataset_dict['No. Senti Labels'].append(num_sentiment_labels)\n",
    "    train_dataset_dict['Mean Targets per Sent'].append(dataset\\\n",
    "                                                 .avg_targets_per_sentence())\n",
    "    train_dataset_dict['No Unique Targets'].append(dataset.number_unique_targets())\n",
    "    train_dataset_dict['% Targets with 1 Unique Sentiment per Sentence'].append(targets_i_senti[0])\n",
    "    train_dataset_dict['% Targets with 2 Unique Sentiment per Sentence'].append(targets_i_senti[1])\n",
    "    train_dataset_dict['% Targets with 3 Unique Sentiment per Sentence'].append(targets_i_senti[2])\n",
    "    train_dataset_dict['Avg sentence length per target'].append(avg_sent_length)\n",
    "    \n",
    "\n",
    "train_dataset_stats = pd.DataFrame(train_dataset_dict, index=index, columns=columns)\n",
    "train_dataset_stats.round(2)"
   ]
  },
  {
   "cell_type": "code",
   "execution_count": 7,
   "metadata": {},
   "outputs": [
    {
     "output_type": "execute_result",
     "data": {
      "text/plain": "                 No. Poisitve (%) No. Neutral (%) No. Negative (%)\nLaptop                987 (42.67)     460 (19.89)      866 (37.44)\nRestaurant           2164 (60.08)     633 (17.57)      805 (22.35)\nMitchell              495 (21.51)    1614 (70.14)       192 (8.34)\nDong Twitter         1561 (24.98)    3127 (50.05)     1560 (24.97)\nElection Twitter     1366 (14.60)    3615 (38.63)     4377 (46.77)\nYouTuBean             157 (28.14)     352 (63.08)        49 (8.78)",
      "text/html": "<div>\n<style scoped>\n    .dataframe tbody tr th:only-of-type {\n        vertical-align: middle;\n    }\n\n    .dataframe tbody tr th {\n        vertical-align: top;\n    }\n\n    .dataframe thead th {\n        text-align: right;\n    }\n</style>\n<table border=\"1\" class=\"dataframe\">\n  <thead>\n    <tr style=\"text-align: right;\">\n      <th></th>\n      <th>No. Poisitve (%)</th>\n      <th>No. Neutral (%)</th>\n      <th>No. Negative (%)</th>\n    </tr>\n  </thead>\n  <tbody>\n    <tr>\n      <th>Laptop</th>\n      <td>987 (42.67)</td>\n      <td>460 (19.89)</td>\n      <td>866 (37.44)</td>\n    </tr>\n    <tr>\n      <th>Restaurant</th>\n      <td>2164 (60.08)</td>\n      <td>633 (17.57)</td>\n      <td>805 (22.35)</td>\n    </tr>\n    <tr>\n      <th>Mitchell</th>\n      <td>495 (21.51)</td>\n      <td>1614 (70.14)</td>\n      <td>192 (8.34)</td>\n    </tr>\n    <tr>\n      <th>Dong Twitter</th>\n      <td>1561 (24.98)</td>\n      <td>3127 (50.05)</td>\n      <td>1560 (24.97)</td>\n    </tr>\n    <tr>\n      <th>Election Twitter</th>\n      <td>1366 (14.60)</td>\n      <td>3615 (38.63)</td>\n      <td>4377 (46.77)</td>\n    </tr>\n    <tr>\n      <th>YouTuBean</th>\n      <td>157 (28.14)</td>\n      <td>352 (63.08)</td>\n      <td>49 (8.78)</td>\n    </tr>\n  </tbody>\n</table>\n</div>"
     },
     "metadata": {},
     "execution_count": 7
    }
   ],
   "source": [
    "train_dataset_dict = defaultdict(list)\n",
    "index = []\n",
    "columns = ['No. Poisitve (%)', 'No. Neutral (%)', 'No. Negative (%)']\n",
    "sentiment_values = [1, 0, -1]\n",
    "sentiment_mapper = dict(list(zip(sentiment_values, columns)))\n",
    "\n",
    "for name, dataset in training_sets.items():\n",
    "    index.append(name)\n",
    "    num_targets = len(dataset)\n",
    "    sentiment_freq = defaultdict(lambda: 0)\n",
    "    for data in dataset.data():\n",
    "        target_value = data['sentiment']\n",
    "        sentiment_freq[target_value] += 1\n",
    "    for sentiment_value, freq in sentiment_freq.items():\n",
    "        senti_percentage = (freq / num_targets) * 100\n",
    "        freq_percentage = f'{freq} ({senti_percentage:.2f})'\n",
    "        \n",
    "        column = sentiment_mapper[sentiment_value]\n",
    "        train_dataset_dict[column].append(freq_percentage)\n",
    "train_sentiment_freq_stats = pd.DataFrame(train_dataset_dict, index=index, columns=columns)\n",
    "train_sentiment_freq_stats"
   ]
  },
  {
   "cell_type": "markdown",
   "metadata": {},
   "source": [
    "Size of the small training sets"
   ]
  },
  {
   "cell_type": "code",
   "execution_count": 9,
   "metadata": {},
   "outputs": [
    {
     "output_type": "execute_result",
     "data": {
      "text/plain": "                      Domain          Type   Medium  \\\nLaptop                Laptop        Review  Written   \nRestaurant        Restaurant        Review  Written   \nMitchell             General  Social Media  Written   \nDong Twitter         General  Social Media  Written   \nElection Twitter    Politics  Social Media  Written   \n\n                  No. Targets (Dataset Size)  No. Senti Labels  \\\nLaptop                                   558                 3   \nRestaurant                               558                 3   \nMitchell                                 558                 3   \nDong Twitter                             558                 3   \nElection Twitter                         558                 3   \n\n                  Mean Targets per Sent  No Unique Targets  \\\nLaptop                             1.62                359   \nRestaurant                         1.77                300   \nMitchell                           1.49                471   \nDong Twitter                       1.00                104   \nElection Twitter                   3.00                290   \n\n                  % Targets with 1 Unique Sentiment per Sentence  \\\nLaptop                                                     78.32   \nRestaurant                                                 74.73   \nMitchell                                                   83.15   \nDong Twitter                                              100.00   \nElection Twitter                                           42.11   \n\n                  % Targets with 2 Unique Sentiment per Sentence  \\\nLaptop                                                     21.68   \nRestaurant                                                 23.84   \nMitchell                                                   16.31   \nDong Twitter                                                0.00   \nElection Twitter                                           47.67   \n\n                  % Targets with 3 Unique Sentiment per Sentence  \\\nLaptop                                                      0.00   \nRestaurant                                                  1.43   \nMitchell                                                    0.54   \nDong Twitter                                                0.00   \nElection Twitter                                           10.22   \n\n                  Avg sentence length per target  \nLaptop                                     19.34  \nRestaurant                                 17.17  \nMitchell                                   18.75  \nDong Twitter                               17.39  \nElection Twitter                           21.31  ",
      "text/html": "<div>\n<style scoped>\n    .dataframe tbody tr th:only-of-type {\n        vertical-align: middle;\n    }\n\n    .dataframe tbody tr th {\n        vertical-align: top;\n    }\n\n    .dataframe thead th {\n        text-align: right;\n    }\n</style>\n<table border=\"1\" class=\"dataframe\">\n  <thead>\n    <tr style=\"text-align: right;\">\n      <th></th>\n      <th>Domain</th>\n      <th>Type</th>\n      <th>Medium</th>\n      <th>No. Targets (Dataset Size)</th>\n      <th>No. Senti Labels</th>\n      <th>Mean Targets per Sent</th>\n      <th>No Unique Targets</th>\n      <th>% Targets with 1 Unique Sentiment per Sentence</th>\n      <th>% Targets with 2 Unique Sentiment per Sentence</th>\n      <th>% Targets with 3 Unique Sentiment per Sentence</th>\n      <th>Avg sentence length per target</th>\n    </tr>\n  </thead>\n  <tbody>\n    <tr>\n      <th>Laptop</th>\n      <td>Laptop</td>\n      <td>Review</td>\n      <td>Written</td>\n      <td>558</td>\n      <td>3</td>\n      <td>1.62</td>\n      <td>359</td>\n      <td>78.32</td>\n      <td>21.68</td>\n      <td>0.00</td>\n      <td>19.34</td>\n    </tr>\n    <tr>\n      <th>Restaurant</th>\n      <td>Restaurant</td>\n      <td>Review</td>\n      <td>Written</td>\n      <td>558</td>\n      <td>3</td>\n      <td>1.77</td>\n      <td>300</td>\n      <td>74.73</td>\n      <td>23.84</td>\n      <td>1.43</td>\n      <td>17.17</td>\n    </tr>\n    <tr>\n      <th>Mitchell</th>\n      <td>General</td>\n      <td>Social Media</td>\n      <td>Written</td>\n      <td>558</td>\n      <td>3</td>\n      <td>1.49</td>\n      <td>471</td>\n      <td>83.15</td>\n      <td>16.31</td>\n      <td>0.54</td>\n      <td>18.75</td>\n    </tr>\n    <tr>\n      <th>Dong Twitter</th>\n      <td>General</td>\n      <td>Social Media</td>\n      <td>Written</td>\n      <td>558</td>\n      <td>3</td>\n      <td>1.00</td>\n      <td>104</td>\n      <td>100.00</td>\n      <td>0.00</td>\n      <td>0.00</td>\n      <td>17.39</td>\n    </tr>\n    <tr>\n      <th>Election Twitter</th>\n      <td>Politics</td>\n      <td>Social Media</td>\n      <td>Written</td>\n      <td>558</td>\n      <td>3</td>\n      <td>3.00</td>\n      <td>290</td>\n      <td>42.11</td>\n      <td>47.67</td>\n      <td>10.22</td>\n      <td>21.31</td>\n    </tr>\n  </tbody>\n</table>\n</div>"
     },
     "metadata": {},
     "execution_count": 9
    }
   ],
   "source": [
    "small_training_dataset_dir = config.small_training_dataset_dir\n",
    "small_laptop_train = parsers.semeval_14(small_training_dataset_dir / 'Laptop train.xml')\n",
    "small_restaurant_train = parsers.semeval_14(small_training_dataset_dir / 'Restaurant train.xml')\n",
    "small_mitchell_train = parsers.semeval_14(small_training_dataset_dir / 'Mitchell train.xml')\n",
    "small_dong_train = parsers.semeval_14(small_training_dataset_dir / 'Dong train.xml')\n",
    "small_election_train = parsers.semeval_14(small_training_dataset_dir / 'Election train.xml')\n",
    "\n",
    "\n",
    "small_training_sets = {'Laptop' : small_laptop_train, 'Restaurant' : small_restaurant_train,\n",
    "                       'Mitchell' : small_mitchell_train, 'Dong Twitter' : small_dong_train, \n",
    "                       'Election Twitter' : small_election_train}\n",
    "\n",
    "\n",
    "small_train_dataset_dict = defaultdict(list)\n",
    "index = []\n",
    "columns = ['Domain', 'Type', 'Medium', 'No. Targets (Dataset Size)', \n",
    "           'No. Senti Labels', 'Mean Targets per Sent', 'No Unique Targets',\n",
    "           '% Targets with 1 Unique Sentiment per Sentence', \n",
    "           '% Targets with 2 Unique Sentiment per Sentence', \n",
    "           '% Targets with 3 Unique Sentiment per Sentence', 'Avg sentence length per target']\n",
    "name_domain = {'Laptop' : 'Laptop', 'Restaurant' : 'Restaurant', \n",
    "               'Mitchell' : 'General', 'Dong Twitter' : 'General', 'Election Twitter' : 'Politics'}\n",
    "name_type = {'Laptop' : 'Review', 'Restaurant' : 'Review', \n",
    "             'Mitchell' : 'Social Media', 'Dong Twitter' : 'Social Media', \n",
    "             'Election Twitter' : 'Social Media'}\n",
    "name_medium = {'Laptop' : 'Written', 'Restaurant' : 'Written', \n",
    "               'Mitchell' : 'Written', 'Dong Twitter' : 'Written', \n",
    "               'Election Twitter' : 'Written'}\n",
    "for name, dataset in small_training_sets.items():\n",
    "    index.append(name)\n",
    "    targets_i_senti = []\n",
    "    num_targets = len(dataset)\n",
    "    num_sentiment_labels = len(dataset.stored_sentiments())\n",
    "    avg_sent_length = dataset.avg_sentence_length_per_target()\n",
    "    for i in range(1, 4):\n",
    "        if i > num_sentiment_labels:\n",
    "            targets_i_senti.append(0)\n",
    "        else:\n",
    "            i_senti_targets = len(dataset.subset_by_sentiment(i))\n",
    "            targets_i_senti\\\n",
    "            .append((i_senti_targets / num_targets) * 100)\n",
    "            \n",
    "    small_train_dataset_dict['Domain'].append(name_domain[name])\n",
    "    small_train_dataset_dict['Type'].append(name_type[name])\n",
    "    small_train_dataset_dict['Medium'].append(name_medium[name])\n",
    "    small_train_dataset_dict['No. Targets (Dataset Size)'].append(num_targets)\n",
    "    small_train_dataset_dict['No. Senti Labels'].append(num_sentiment_labels)\n",
    "    small_train_dataset_dict['Mean Targets per Sent'].append(dataset\\\n",
    "                                                 .avg_targets_per_sentence())\n",
    "    small_train_dataset_dict['No Unique Targets'].append(dataset.number_unique_targets())\n",
    "    small_train_dataset_dict['% Targets with 1 Unique Sentiment per Sentence'].append(targets_i_senti[0])\n",
    "    small_train_dataset_dict['% Targets with 2 Unique Sentiment per Sentence'].append(targets_i_senti[1])\n",
    "    small_train_dataset_dict['% Targets with 3 Unique Sentiment per Sentence'].append(targets_i_senti[2])\n",
    "    small_train_dataset_dict['Avg sentence length per target'].append(avg_sent_length)\n",
    "    \n",
    "\n",
    "small_train_dataset_stats = pd.DataFrame(small_train_dataset_dict, index=index, columns=columns)\n",
    "small_train_dataset_stats.round(2)"
   ]
  },
  {
   "cell_type": "code",
   "execution_count": 10,
   "metadata": {},
   "outputs": [
    {
     "output_type": "execute_result",
     "data": {
      "text/plain": "                 No. Poisitve (%) No. Neutral (%) No. Negative (%)\nLaptop                236 (42.29)     111 (19.89)      211 (37.81)\nRestaurant            348 (62.37)      98 (17.56)      112 (20.07)\nMitchell              110 (19.71)     399 (71.51)        49 (8.78)\nDong Twitter          140 (25.09)     279 (50.00)      139 (24.91)\nElection Twitter       74 (13.26)     232 (41.58)      252 (45.16)",
      "text/html": "<div>\n<style scoped>\n    .dataframe tbody tr th:only-of-type {\n        vertical-align: middle;\n    }\n\n    .dataframe tbody tr th {\n        vertical-align: top;\n    }\n\n    .dataframe thead th {\n        text-align: right;\n    }\n</style>\n<table border=\"1\" class=\"dataframe\">\n  <thead>\n    <tr style=\"text-align: right;\">\n      <th></th>\n      <th>No. Poisitve (%)</th>\n      <th>No. Neutral (%)</th>\n      <th>No. Negative (%)</th>\n    </tr>\n  </thead>\n  <tbody>\n    <tr>\n      <th>Laptop</th>\n      <td>236 (42.29)</td>\n      <td>111 (19.89)</td>\n      <td>211 (37.81)</td>\n    </tr>\n    <tr>\n      <th>Restaurant</th>\n      <td>348 (62.37)</td>\n      <td>98 (17.56)</td>\n      <td>112 (20.07)</td>\n    </tr>\n    <tr>\n      <th>Mitchell</th>\n      <td>110 (19.71)</td>\n      <td>399 (71.51)</td>\n      <td>49 (8.78)</td>\n    </tr>\n    <tr>\n      <th>Dong Twitter</th>\n      <td>140 (25.09)</td>\n      <td>279 (50.00)</td>\n      <td>139 (24.91)</td>\n    </tr>\n    <tr>\n      <th>Election Twitter</th>\n      <td>74 (13.26)</td>\n      <td>232 (41.58)</td>\n      <td>252 (45.16)</td>\n    </tr>\n  </tbody>\n</table>\n</div>"
     },
     "metadata": {},
     "execution_count": 10
    }
   ],
   "source": [
    "small_train_dataset_dict = defaultdict(list)\n",
    "index = []\n",
    "columns = ['No. Poisitve (%)', 'No. Neutral (%)', 'No. Negative (%)']\n",
    "sentiment_values = [1, 0, -1]\n",
    "sentiment_mapper = dict(list(zip(sentiment_values, columns)))\n",
    "\n",
    "for name, dataset in small_training_sets.items():\n",
    "    index.append(name)\n",
    "    num_targets = len(dataset)\n",
    "    sentiment_freq = defaultdict(lambda: 0)\n",
    "    for data in dataset.data():\n",
    "        target_value = data['sentiment']\n",
    "        sentiment_freq[target_value] += 1\n",
    "    for sentiment_value, freq in sentiment_freq.items():\n",
    "        senti_percentage = (freq / num_targets) * 100\n",
    "        freq_percentage = f'{freq} ({senti_percentage:.2f})'\n",
    "        \n",
    "        column = sentiment_mapper[sentiment_value]\n",
    "        small_train_dataset_dict[column].append(freq_percentage)\n",
    "small_train_sentiment_freq_stats = pd.DataFrame(small_train_dataset_dict, index=index, columns=columns)\n",
    "small_train_sentiment_freq_stats"
   ]
  }
 ],
 "metadata": {
  "language_info": {
   "codemirror_mode": {
    "name": "ipython",
    "version": 3
   },
   "file_extension": ".py",
   "mimetype": "text/x-python",
   "name": "python",
   "nbconvert_exporter": "python",
   "pygments_lexer": "ipython3",
   "version": "3.6.7-candidate"
  },
  "orig_nbformat": 2,
  "kernelspec": {
   "name": "python36764bitf868c7e0d1e547669dece7a4caca1993",
   "display_name": "Python 3.6.7 64-bit"
  }
 },
 "nbformat": 4,
 "nbformat_minor": 2
}