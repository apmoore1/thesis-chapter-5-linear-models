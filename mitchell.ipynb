{
 "cells": [
  {
   "cell_type": "code",
   "execution_count": 2,
   "metadata": {
    "tags": []
   },
   "outputs": [],
   "source": [
    "import random as rn\n",
    "rn.seed(42)\n",
    "from pathlib import Path\n",
    "\n",
    "import numpy as np\n",
    "np.random.seed(42)\n",
    "from sklearn.model_selection import StratifiedShuffleSplit\n",
    "from bella.parsers import mitchel as mitchell\n",
    "from bella.data_types import TargetCollection, Target\n",
    "from bella import write_data\n",
    "\n",
    "import config"
   ]
  },
  {
   "cell_type": "markdown",
   "metadata": {},
   "source": [
    "# Creating Training and Test sets for the [Mitchell et al. 2013](https://www.aclweb.org/anthology/D13-1171) Dataset\n",
    "We show how we created the Training and Test sets for this dataset.\n",
    "\n",
    "The original Dataset can be downloaded from [here](http://www.m-mitchell.com/code/MitchellEtAl-13-OpenSentiment.tgz) and the accompying paper can be found [here](https://www.aclweb.org/anthology/D13-1171). As Mitchell et al. Evaluated their models of 10 fold cross validation they do not have one train, test set therefore we take one of their train, test folds combine it and split it into 70% train and 30% test, we then save the new train and test dataset in XML format that is of the same format as the [SemEval 2014](http://alt.qcri.org/semeval2014/task4/) datasets (we choose this dataset format as we found it the easiest to parse, use, understand and visually understand).\n",
    "\n",
    "The original dataset contains 3288 targets as stated in the paper. We also show in this notebook that we also get the same number of targets and thus have parsed the dataset correctly."
   ]
  },
  {
   "cell_type": "code",
   "execution_count": 3,
   "metadata": {
    "tags": []
   },
   "outputs": [
    {
     "output_type": "stream",
     "name": "stdout",
     "text": "Parsed dataset size 3288\n"
    }
   ],
   "source": [
    "CONFIG_FP = Path('..', 'config.yaml')\n",
    "\n",
    "# Mitchel Dataset\n",
    "mitchell_original_train = mitchell(config.mitchell_original_train)\n",
    "mitchell_original_test = mitchell(config.mitchell_original_test)\n",
    "\n",
    "mitchell_combined = TargetCollection.combine_collections(mitchell_original_train, \n",
    "                                                         mitchell_original_test)\n",
    "print(f'Parsed dataset size {len(mitchell_combined)}')"
   ]
  },
  {
   "cell_type": "code",
   "execution_count": 4,
   "metadata": {
    "tags": []
   },
   "outputs": [
    {
     "output_type": "stream",
     "name": "stdout",
     "text": "\nThe dataset has now been split with respect to the class labels so each class label is represented equally in the train and test splits which can be shown here:\n\nTrain Data ratio: {0: 0.7, 1: 0.22, -1: 0.08}\nTrain Data raw values: {0: 1614, 1: 495, -1: 192}\n\nTest Data ratio: {0: 0.7, -1: 0.08, 1: 0.21}\nTest Data raw values: {0: 692, -1: 83, 1: 212}\n\nOriginal Data ratio: {-1: 0.08, 1: 0.22, 0: 0.7}  \nOriginal Data raw values: {-1: 275, 1: 707, 0: 2306}\n\nWe now save the data to XML file format which is the same as the SemEval data format.\n\n"
    }
   ],
   "source": [
    "splitter = StratifiedShuffleSplit(n_splits=1, test_size=0.3, random_state=42)\n",
    "\n",
    "mitchell_data = np.asarray(mitchell_combined.data_dict())\n",
    "mitchell_sentiment = np.asarray(mitchell_combined.sentiment_data())\n",
    "for train_indexs, test_indexs in splitter.split(mitchell_data, mitchell_sentiment):\n",
    "    train_data = mitchell_data[train_indexs]\n",
    "    test_data = mitchell_data[test_indexs]\n",
    "    \n",
    "convert_to_targets = lambda data: [Target(**target) for target in data]\n",
    "mitchell_train = TargetCollection(convert_to_targets(train_data))\n",
    "mitchell_test = TargetCollection(convert_to_targets(test_data))\n",
    "print(f'''\n",
    "The dataset has now been split with respect to the class labels so each class label is represented equally in the train and test splits which can be shown here:\n",
    "\n",
    "Train Data ratio: {mitchell_train.ratio_targets_sentiment()}\n",
    "Train Data raw values: {mitchell_train.no_targets_sentiment()}\n",
    "\n",
    "Test Data ratio: {mitchell_test.ratio_targets_sentiment()}\n",
    "Test Data raw values: {mitchell_test.no_targets_sentiment()}\n",
    "\n",
    "Original Data ratio: {mitchell_combined.ratio_targets_sentiment()}  \n",
    "Original Data raw values: {mitchell_combined.no_targets_sentiment()}\n",
    "\n",
    "We now save the data to XML file format which is the same as the SemEval data format.\n",
    "''')"
   ]
  },
  {
   "cell_type": "code",
   "execution_count": 5,
   "metadata": {},
   "outputs": [],
   "source": [
    "write_data.semeval_14(config.mitchell_train, mitchell_train)\n",
    "write_data.semeval_14(config.mitchell_test, mitchell_test)"
   ]
  }
 ],
 "metadata": {
  "language_info": {
   "codemirror_mode": {
    "name": "ipython",
    "version": 3
   },
   "file_extension": ".py",
   "mimetype": "text/x-python",
   "name": "python",
   "nbconvert_exporter": "python",
   "pygments_lexer": "ipython3",
   "version": "3.6.7-candidate"
  },
  "orig_nbformat": 2,
  "kernelspec": {
   "name": "python36764bitf868c7e0d1e547669dece7a4caca1993",
   "display_name": "Python 3.6.7 64-bit"
  }
 },
 "nbformat": 4,
 "nbformat_minor": 2
}